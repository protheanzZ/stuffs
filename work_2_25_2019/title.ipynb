{
 "cells": [
  {
   "cell_type": "code",
   "execution_count": 1,
   "metadata": {},
   "outputs": [],
   "source": [
    "import re\n",
    "import pandas as pd"
   ]
  },
  {
   "cell_type": "code",
   "execution_count": 206,
   "metadata": {},
   "outputs": [],
   "source": [
    "with open('titles.txt', 'r+') as f:\n",
    "    cont = f.readlines()"
   ]
  },
  {
   "cell_type": "code",
   "execution_count": 50,
   "metadata": {},
   "outputs": [],
   "source": [
    "with open('titles_clean.txt', 'w', encoding='utf-8') as f:\n",
    "    for title in results:\n",
    "        f.write(title)\n",
    "        f.write('\\n')"
   ]
  },
  {
   "cell_type": "code",
   "execution_count": 177,
   "metadata": {},
   "outputs": [
    {
     "data": {
      "text/html": [
       "<div>\n",
       "<style scoped>\n",
       "    .dataframe tbody tr th:only-of-type {\n",
       "        vertical-align: middle;\n",
       "    }\n",
       "\n",
       "    .dataframe tbody tr th {\n",
       "        vertical-align: top;\n",
       "    }\n",
       "\n",
       "    .dataframe thead th {\n",
       "        text-align: right;\n",
       "    }\n",
       "</style>\n",
       "<table border=\"1\" class=\"dataframe\">\n",
       "  <thead>\n",
       "    <tr style=\"text-align: right;\">\n",
       "      <th></th>\n",
       "      <th>0</th>\n",
       "    </tr>\n",
       "  </thead>\n",
       "  <tbody>\n",
       "    <tr>\n",
       "      <th>0</th>\n",
       "      <td>Effect of body condition on tissue distributio...</td>\n",
       "    </tr>\n",
       "    <tr>\n",
       "      <th>1</th>\n",
       "      <td>Exposure to perfluoroalkyl substances and thyr...</td>\n",
       "    </tr>\n",
       "    <tr>\n",
       "      <th>2</th>\n",
       "      <td>Perfluorooctane sulfonate and perfluorooctanoi...</td>\n",
       "    </tr>\n",
       "    <tr>\n",
       "      <th>3</th>\n",
       "      <td>Assessing the relationship between perfluoroal...</td>\n",
       "    </tr>\n",
       "    <tr>\n",
       "      <th>4</th>\n",
       "      <td>Maternal serum concentrations of perfluoroalky...</td>\n",
       "    </tr>\n",
       "  </tbody>\n",
       "</table>\n",
       "</div>"
      ],
      "text/plain": [
       "                                                   0\n",
       "0  Effect of body condition on tissue distributio...\n",
       "1  Exposure to perfluoroalkyl substances and thyr...\n",
       "2  Perfluorooctane sulfonate and perfluorooctanoi...\n",
       "3  Assessing the relationship between perfluoroal...\n",
       "4  Maternal serum concentrations of perfluoroalky..."
      ]
     },
     "execution_count": 177,
     "metadata": {},
     "output_type": "execute_result"
    }
   ],
   "source": [
    "titles = pd.DataFrame(results)\n",
    "titles.head()"
   ]
  },
  {
   "cell_type": "code",
   "execution_count": 5,
   "metadata": {},
   "outputs": [],
   "source": [
    "df = pd.read_excel('screening.xls')"
   ]
  },
  {
   "cell_type": "code",
   "execution_count": 6,
   "metadata": {},
   "outputs": [
    {
     "data": {
      "text/plain": [
       "Index(['No._x', 'Country ', 'period', 'Sample size ', 'population',\n",
       "       'Age group ', 'Exposure setting ', 'Bio-matrices',\n",
       "       'Pretreatment and analysis', 'metabolites', 'biomarkers ',\n",
       "       'thyroid toxicity', 'adjustment factors', 'remarks', 'Title',\n",
       "       'exposure setting', 'Size', 'PFBA', 'PFPeA', 'PFHxS', 'PFHpS', 'PFOS',\n",
       "       'PFOA', 'PFNA', 'PFDA', 'PFUnDA', 'PFDoDA', 'PFTrDA', 'PFTeDA', 'TSH',\n",
       "       'T3', 'T4', 'fT3', 'fT4', 'Prenatal_TSH', 'Prenatal_T3', 'Prenatal_T4',\n",
       "       'Prenatal_fT3', 'Prenatal_fT4', 'Postpartum_TSH', 'Postpartum_T3',\n",
       "       'Postpartum_T4', 'Postpartum_fT3', 'Postpartum_fT4', 'Note'],\n",
       "      dtype='object')"
      ]
     },
     "execution_count": 6,
     "metadata": {},
     "output_type": "execute_result"
    }
   ],
   "source": [
    "df.columns"
   ]
  },
  {
   "cell_type": "code",
   "execution_count": 7,
   "metadata": {},
   "outputs": [],
   "source": [
    "titles_sc = df[['Title']]"
   ]
  },
  {
   "cell_type": "code",
   "execution_count": 8,
   "metadata": {},
   "outputs": [],
   "source": [
    "titles_sc = pd.DataFrame(titles_sc.Title.unique())"
   ]
  },
  {
   "cell_type": "code",
   "execution_count": 131,
   "metadata": {},
   "outputs": [
    {
     "data": {
      "text/html": [
       "<div>\n",
       "<style scoped>\n",
       "    .dataframe tbody tr th:only-of-type {\n",
       "        vertical-align: middle;\n",
       "    }\n",
       "\n",
       "    .dataframe tbody tr th {\n",
       "        vertical-align: top;\n",
       "    }\n",
       "\n",
       "    .dataframe thead th {\n",
       "        text-align: right;\n",
       "    }\n",
       "</style>\n",
       "<table border=\"1\" class=\"dataframe\">\n",
       "  <thead>\n",
       "    <tr style=\"text-align: right;\">\n",
       "      <th></th>\n",
       "      <th>0</th>\n",
       "    </tr>\n",
       "    <tr>\n",
       "      <th>0</th>\n",
       "      <th></th>\n",
       "    </tr>\n",
       "  </thead>\n",
       "  <tbody>\n",
       "    <tr>\n",
       "      <th>Effect of body condition on tissue distribution of perfluoroalkyl substances (pfass) in arctic fox (vulpes lagopus)</th>\n",
       "      <td>Effect of body condition on tissue distributio...</td>\n",
       "    </tr>\n",
       "    <tr>\n",
       "      <th>Exposure to perfluoroalkyl substances and thyroid function in pregnant women and children: A systematic review of epidemiologic studies</th>\n",
       "      <td>Exposure to perfluoroalkyl substances and thyr...</td>\n",
       "    </tr>\n",
       "    <tr>\n",
       "      <th>Perfluorooctane sulfonate and perfluorooctanoic acid in surgical thyroid specimens of patients with thyroid diseases</th>\n",
       "      <td>Perfluorooctane sulfonate and perfluorooctanoi...</td>\n",
       "    </tr>\n",
       "    <tr>\n",
       "      <th>Assessing the relationship between perfluoroalkyl substances, thyroid hormones and binding proteins in pregnant women; a longitudinal mixed effects approach</th>\n",
       "      <td>Assessing the relationship between perfluoroal...</td>\n",
       "    </tr>\n",
       "    <tr>\n",
       "      <th>Maternal serum concentrations of perfluoroalkyl acids in five international birth cohorts</th>\n",
       "      <td>Maternal serum concentrations of perfluoroalky...</td>\n",
       "    </tr>\n",
       "  </tbody>\n",
       "</table>\n",
       "</div>"
      ],
      "text/plain": [
       "                                                                                                    0\n",
       "0                                                                                                    \n",
       "Effect of body condition on tissue distribution...  Effect of body condition on tissue distributio...\n",
       "Exposure to perfluoroalkyl substances and thyro...  Exposure to perfluoroalkyl substances and thyr...\n",
       "Perfluorooctane sulfonate and perfluorooctanoic...  Perfluorooctane sulfonate and perfluorooctanoi...\n",
       "Assessing the relationship between perfluoroalk...  Assessing the relationship between perfluoroal...\n",
       "Maternal serum concentrations of perfluoroalkyl...  Maternal serum concentrations of perfluoroalky..."
      ]
     },
     "execution_count": 131,
     "metadata": {},
     "output_type": "execute_result"
    }
   ],
   "source": [
    "titles.index = titles[0]\n",
    "titles.head()"
   ]
  },
  {
   "cell_type": "code",
   "execution_count": 132,
   "metadata": {},
   "outputs": [
    {
     "data": {
      "text/html": [
       "<div>\n",
       "<style scoped>\n",
       "    .dataframe tbody tr th:only-of-type {\n",
       "        vertical-align: middle;\n",
       "    }\n",
       "\n",
       "    .dataframe tbody tr th {\n",
       "        vertical-align: top;\n",
       "    }\n",
       "\n",
       "    .dataframe thead th {\n",
       "        text-align: right;\n",
       "    }\n",
       "</style>\n",
       "<table border=\"1\" class=\"dataframe\">\n",
       "  <thead>\n",
       "    <tr style=\"text-align: right;\">\n",
       "      <th></th>\n",
       "      <th>0</th>\n",
       "    </tr>\n",
       "    <tr>\n",
       "      <th>0</th>\n",
       "      <th></th>\n",
       "    </tr>\n",
       "  </thead>\n",
       "  <tbody>\n",
       "    <tr>\n",
       "      <th>Assessing the relationship between perfluoroalkyl substances, thyroid hormones and binding proteins in pregnant women; a longitudinal mixed effects approach</th>\n",
       "      <td>Assessing the relationship between perfluoroal...</td>\n",
       "    </tr>\n",
       "    <tr>\n",
       "      <th>Community Exposure to Perfluorooctanoate: Relationships Between Serum Levels and Certain Health Parameters</th>\n",
       "      <td>Community Exposure to Perfluorooctanoate: Rela...</td>\n",
       "    </tr>\n",
       "    <tr>\n",
       "      <th>Assessment of lipid, hepatic, and thyroid parameters with serum perfluorooctanoate (PFOA) concentrations in fluorochemical production workers</th>\n",
       "      <td>Assessment of lipid, hepatic, and thyroid para...</td>\n",
       "    </tr>\n",
       "    <tr>\n",
       "      <th>Association between Perfluoroalkyl substances and thyroid stimulating hormone among pregnant women: a cross-sectional study</th>\n",
       "      <td>Association between Perfluoroalkyl substances ...</td>\n",
       "    </tr>\n",
       "    <tr>\n",
       "      <th>Comparison between free serum thyroxine levels, measured by analog and dialysis methods, in the presence of perfluorooctane sulfonate and perfluorooctanoate</th>\n",
       "      <td>Comparison between free serum thyroxine levels...</td>\n",
       "    </tr>\n",
       "  </tbody>\n",
       "</table>\n",
       "</div>"
      ],
      "text/plain": [
       "                                                                                                    0\n",
       "0                                                                                                    \n",
       "Assessing the relationship between perfluoroalk...  Assessing the relationship between perfluoroal...\n",
       "Community Exposure to Perfluorooctanoate: Relat...  Community Exposure to Perfluorooctanoate: Rela...\n",
       "Assessment of lipid, hepatic, and thyroid param...  Assessment of lipid, hepatic, and thyroid para...\n",
       "Association between Perfluoroalkyl substances a...  Association between Perfluoroalkyl substances ...\n",
       "Comparison between free serum thyroxine levels,...  Comparison between free serum thyroxine levels..."
      ]
     },
     "execution_count": 132,
     "metadata": {},
     "output_type": "execute_result"
    }
   ],
   "source": [
    "titles_sc.index = titles_sc[0]\n",
    "titles_sc.head()"
   ]
  },
  {
   "cell_type": "code",
   "execution_count": 134,
   "metadata": {},
   "outputs": [
    {
     "data": {
      "text/html": [
       "<div>\n",
       "<style scoped>\n",
       "    .dataframe tbody tr th:only-of-type {\n",
       "        vertical-align: middle;\n",
       "    }\n",
       "\n",
       "    .dataframe tbody tr th {\n",
       "        vertical-align: top;\n",
       "    }\n",
       "\n",
       "    .dataframe thead th {\n",
       "        text-align: right;\n",
       "    }\n",
       "</style>\n",
       "<table border=\"1\" class=\"dataframe\">\n",
       "  <thead>\n",
       "    <tr style=\"text-align: right;\">\n",
       "      <th></th>\n",
       "      <th>0</th>\n",
       "    </tr>\n",
       "    <tr>\n",
       "      <th>0</th>\n",
       "      <th></th>\n",
       "    </tr>\n",
       "  </thead>\n",
       "  <tbody>\n",
       "    <tr>\n",
       "      <th>Assessing the relationship between perfluoroalkyl substances, thyroid hormones and binding proteins in pregnant women; a longitudinal mixed effects approach</th>\n",
       "      <td>Assessing the relationship between perfluoroal...</td>\n",
       "    </tr>\n",
       "    <tr>\n",
       "      <th>Community Exposure to Perfluorooctanoate: Relationships Between Serum Levels and Certain Health Parameters</th>\n",
       "      <td>Community Exposure to Perfluorooctanoate: Rela...</td>\n",
       "    </tr>\n",
       "    <tr>\n",
       "      <th>Assessment of lipid, hepatic, and thyroid parameters with serum perfluorooctanoate (PFOA) concentrations in fluorochemical production workers</th>\n",
       "      <td>Assessment of lipid, hepatic, and thyroid para...</td>\n",
       "    </tr>\n",
       "    <tr>\n",
       "      <th>Association between Perfluoroalkyl substances and thyroid stimulating hormone among pregnant women: a cross-sectional study</th>\n",
       "      <td>Association between Perfluoroalkyl substances ...</td>\n",
       "    </tr>\n",
       "    <tr>\n",
       "      <th>Comparison between free serum thyroxine levels, measured by analog and dialysis methods, in the presence of perfluorooctane sulfonate and perfluorooctanoate</th>\n",
       "      <td>Comparison between free serum thyroxine levels...</td>\n",
       "    </tr>\n",
       "  </tbody>\n",
       "</table>\n",
       "</div>"
      ],
      "text/plain": [
       "                                                                                                    0\n",
       "0                                                                                                    \n",
       "Assessing the relationship between perfluoroalk...  Assessing the relationship between perfluoroal...\n",
       "Community Exposure to Perfluorooctanoate: Relat...  Community Exposure to Perfluorooctanoate: Rela...\n",
       "Assessment of lipid, hepatic, and thyroid param...  Assessment of lipid, hepatic, and thyroid para...\n",
       "Association between Perfluoroalkyl substances a...  Association between Perfluoroalkyl substances ...\n",
       "Comparison between free serum thyroxine levels,...  Comparison between free serum thyroxine levels..."
      ]
     },
     "execution_count": 134,
     "metadata": {},
     "output_type": "execute_result"
    }
   ],
   "source": [
    "titles_sc.head()"
   ]
  },
  {
   "cell_type": "code",
   "execution_count": 153,
   "metadata": {},
   "outputs": [],
   "source": [
    "df = titles.append(titles_sc)"
   ]
  },
  {
   "cell_type": "code",
   "execution_count": 161,
   "metadata": {},
   "outputs": [],
   "source": [
    "df = df.sort_values(by=0)\n",
    "ts = df[0].values"
   ]
  },
  {
   "cell_type": "code",
   "execution_count": 236,
   "metadata": {},
   "outputs": [],
   "source": [
    "with open('titles_clean.txt', 'w') as f:\n",
    "    for t in ts:\n",
    "        f.write(t)\n",
    "        f.write('\\n')"
   ]
  },
  {
   "cell_type": "code",
   "execution_count": 164,
   "metadata": {},
   "outputs": [],
   "source": [
    "with open('titles_clean.txt', 'r') as f:\n",
    "    cont = f.readlines()"
   ]
  },
  {
   "cell_type": "code",
   "execution_count": 173,
   "metadata": {},
   "outputs": [
    {
     "data": {
      "text/plain": [
       "(73, 1)"
      ]
     },
     "execution_count": 173,
     "metadata": {},
     "output_type": "execute_result"
    }
   ],
   "source": [
    "titles.shape"
   ]
  },
  {
   "cell_type": "code",
   "execution_count": 174,
   "metadata": {},
   "outputs": [
    {
     "data": {
      "text/plain": [
       "(41, 1)"
      ]
     },
     "execution_count": 174,
     "metadata": {},
     "output_type": "execute_result"
    }
   ],
   "source": [
    "titles_sc.shape"
   ]
  },
  {
   "cell_type": "code",
   "execution_count": 182,
   "metadata": {},
   "outputs": [],
   "source": [
    "titles_sc['a'] = titles_sc[0].str.lower()\n",
    "titles['a'] = titles[0].str.lower()"
   ]
  },
  {
   "cell_type": "code",
   "execution_count": 191,
   "metadata": {},
   "outputs": [],
   "source": [
    "ts = titles_sc.append(titles)['a'].sort_values().values\n",
    "with open('titles_clean.txt', 'w') as f:\n",
    "    for t in ts:\n",
    "        f.write(t)\n",
    "        f.write('\\n')"
   ]
  },
  {
   "cell_type": "code",
   "execution_count": 203,
   "metadata": {},
   "outputs": [
    {
     "data": {
      "text/plain": [
       "'association between serum perfluorooctanoic acid (pfoa) and thyroid disease in the u'"
      ]
     },
     "execution_count": 203,
     "metadata": {},
     "output_type": "execute_result"
    }
   ],
   "source": [
    "titles.loc[45]['a']"
   ]
  },
  {
   "cell_type": "code",
   "execution_count": 201,
   "metadata": {},
   "outputs": [
    {
     "data": {
      "text/plain": [
       "3     assessing the relationship between perfluoroal...\n",
       "50    assessment of lipid, hepatic, and thyroid para...\n",
       "64    association between maternal serum perfluoroal...\n",
       "65    association between serum perfluorinated chemi...\n",
       "45    association between serum perfluorooctanoic ac...\n",
       "24    association between thyroid profile and perflu...\n",
       "10    associations between serum perfluorooctanoic a...\n",
       "58    changes in thyroid peroxidase activity in resp...\n",
       "6     chronic dietary toxicity and carcinogenicity s...\n",
       "60    cohort mortality study of workers exposed to p...\n",
       "13    community exposure to perfluorooctanoate: rela...\n",
       "40    comparison on gestation and lactation exposure...\n",
       "39    comparison on gestation and lactation exposure...\n",
       "15    concentrations of persistent organic pollutant...\n",
       "62    determinants of plasma concentrations of perfl...\n",
       "19    differential accumulation and elimination beha...\n",
       "0     effect of body condition on tissue distributio...\n",
       "20    effect of thyroxine supplementation on the res...\n",
       "69    effects of perfluorooctane sulfonate on rat th...\n",
       "52    effects of persistent organic pollutants on th...\n",
       "67    enhanced elimination of perfluorooctane sulfon...\n",
       "21    epidemiologic assessment of worker serum perfl...\n",
       "48    epidemiologic assessment of worker serum perfl...\n",
       "59    epidemiologic evidence on the health effects o...\n",
       "5     exploratory assessment of perfluorinated compo...\n",
       "1     exposure to perfluoroalkyl substances and thyr...\n",
       "34    exposure to perfluorooctane sulfonate during p...\n",
       "70    exposure to pfdoa causes disruption of the hyp...\n",
       "8     gestational and lactational exposure to potass...\n",
       "49    half-life of serum elimination of perfluorooct...\n",
       "                            ...                        \n",
       "37    perfluorinated alkyl substances in serum of th...\n",
       "44    perfluorinated chemicals and fetal growth: a s...\n",
       "71    perfluorinated compounds in human blood, water...\n",
       "17    perfluorinated compounds--exposure assessment ...\n",
       "27    perfluoroalkyl acids in serum of korean childr...\n",
       "35    perfluoroalkyl acids: a review of monitoring a...\n",
       "63    perfluoroalkyl substances and thyroid hormones...\n",
       "29    perfluoroalkyl substances in serum from south ...\n",
       "32    perfluorocarbon exposure, gender and thyroid f...\n",
       "23    perfluorooctane sulfonate (pfos) and related p...\n",
       "2     perfluorooctane sulfonate and perfluorooctanoi...\n",
       "66    perfluorooctanoic acid exposure and thyroid di...\n",
       "68    placental transfer of perfluoroalkyl substance...\n",
       "25    prenatal concentrations of perfluoroalkyl subs...\n",
       "9     prenatal exposure to endocrine disrupting chem...\n",
       "57    prenatal exposure to perfluorinated compounds ...\n",
       "36    serum biomarkers of exposure to perfluoroalkyl...\n",
       "26    serum concentrations of major perfluorinated c...\n",
       "47    serum levels of perfluoroalkyl compounds in hu...\n",
       "54                         sex steroids and the thyroid\n",
       "51    temporal trends of perfluoroalkyl concentratio...\n",
       "38    the associations between serum perfluorinated ...\n",
       "16    the c8 health project: design, methods, and pa...\n",
       "41    thyroid function and perfluoroalkyl acids in c...\n",
       "11    thyroid function and plasma concentrations of ...\n",
       "30    trans-placental transfer of thirteen perfluori...\n",
       "31    trans-placental transfer of thirteen perfluori...\n",
       "43    transfer of perfluoroalkyl substances from mot...\n",
       "46    transplacental exposure of neonates to perfluo...\n",
       "28    trends in exposure to polyfluoroalkyl chemical...\n",
       "Name: a, Length: 73, dtype: object"
      ]
     },
     "execution_count": 201,
     "metadata": {},
     "output_type": "execute_result"
    }
   ],
   "source": [
    "titles.sort_values(by='a')['a']"
   ]
  },
  {
   "cell_type": "code",
   "execution_count": 3,
   "metadata": {},
   "outputs": [],
   "source": [
    "with open('titles_clean.txt', 'r') as f:\n",
    "    cont = f.readlines()"
   ]
  },
  {
   "cell_type": "code",
   "execution_count": 28,
   "metadata": {},
   "outputs": [],
   "source": [
    "titles = pd.DataFrame(cont).append(titles_sc).append(titles_sc)[0].str.lower().sort_values()"
   ]
  },
  {
   "cell_type": "code",
   "execution_count": 29,
   "metadata": {},
   "outputs": [],
   "source": [
    "with open('titles_clean_2.txt', 'w') as f:\n",
    "    for title in titles:\n",
    "        f.write(title)\n",
    "        f.write('\\n')"
   ]
  },
  {
   "cell_type": "code",
   "execution_count": 25,
   "metadata": {},
   "outputs": [
    {
     "data": {
      "text/plain": [
       "0     assessing the relationship between perfluoroal...\n",
       "2     assessment of lipid, hepatic, and thyroid para...\n",
       "22    association between maternal serum perfluoroal...\n",
       "19    association between organohalogenated pollutan...\n",
       "0     association between organohalogenated pollutan...\n",
       "3     association between perfluoroalkyl substances ...\n",
       "1     association between perfluoroalkyl substances ...\n",
       "29    association between serum perfluorinated chemi...\n",
       "2     association between serum perfluorooctanoic ac...\n",
       "3     association between thyroid profile and perflu...\n",
       "28    associations between longitudinal serum perflu...\n",
       "4     associations between longitudinal serum perflu...\n",
       "20    associations between perfluoroalkyl acids (pfa...\n",
       "5     associations between perfluoroalkyl acids (pfa...\n",
       "8     associations between serum perfluorooctanoic a...\n",
       "6     changes in thyroid peroxidase activity in resp...\n",
       "7     chronic dietary toxicity and carcinogenicity s...\n",
       "40    cohort mortality study of workers exposed to p...\n",
       "1     community exposure to perfluorooctanoate: rela...\n",
       "4     comparison between free serum thyroxine levels...\n",
       "8     comparison between free serum thyroxine levels...\n",
       "9     concentrations of persistent organic pollutant...\n",
       "33    cord serum concentrations of perfluorooctane s...\n",
       "10    cord serum concentrations of perfluorooctane s...\n",
       "34    cross-sectional associations of serum perfluor...\n",
       "11    cross-sectional associations of serum perfluor...\n",
       "12    determinants of plasma concentrations of perfl...\n",
       "9     determination of perfluorooctanoic acid and pe...\n",
       "13    determination of perfluorooctanoic acid and pe...\n",
       "14    differential accumulation and elimination beha...\n",
       "                            ...                        \n",
       "42    perfluoroalkyl substances and thyroid function...\n",
       "18    perfluoroalkyl substances and thyroid hormones...\n",
       "15    perfluoroalkyl substances in serum from south ...\n",
       "37    perfluoroalkyl substances, bone density, and c...\n",
       "43    perfluoroalkyl substances, bone density, and c...\n",
       "35    perfluoroalkyl substances, thyroid hormones, a...\n",
       "44    perfluoroalkyl substances, thyroid hormones, a...\n",
       "31    perfluorocarbon exposure, gender and thyroid f...\n",
       "27    perfluorooctane sulfonate (pfos) and related p...\n",
       "7     perfluorooctane sulfonate and perfluorooctanoi...\n",
       "32    perfluorooctanoic acid (pfoa) exposures and in...\n",
       "45    perfluorooctanoic acid (pfoa) exposures and in...\n",
       "46    perfluorooctanoic acid exposure and thyroid di...\n",
       "6     placental transfer of perfluoroalkyl substance...\n",
       "47    prenatal concentrations of perfluoroalkyl subs...\n",
       "21    prenatal exposure to endocrine disrupting chem...\n",
       "16    prenatal exposure to perfluorinated compounds ...\n",
       "5     serum biomarkers of exposure to perfluoroalkyl...\n",
       "12    serum concentrations of major perfluorinated c...\n",
       "48    serum levels of perfluoroalkyl compounds in hu...\n",
       "49                       sex steroids and the thyroid\\n\n",
       "50    temporal trends of perfluoroalkyl concentratio...\n",
       "14    the associations between serum perfluorinated ...\n",
       "51    the c8 health project: design, methods, and pa...\n",
       "11    thyroid function and perfluoroalkyl acids in c...\n",
       "39    thyroid function and plasma concentrations of ...\n",
       "23    trans-placental transfer of thirteen perfluori...\n",
       "52    transfer of perfluoroalkyl substances from mot...\n",
       "53    transplacental exposure of neonates to perfluo...\n",
       "54    trends in exposure to polyfluoroalkyl chemical...\n",
       "Name: 0, Length: 96, dtype: object"
      ]
     },
     "execution_count": 25,
     "metadata": {},
     "output_type": "execute_result"
    }
   ],
   "source": [
    "pd.DataFrame(cont).append(titles_sc)[0].str.lower().sort_values()"
   ]
  },
  {
   "cell_type": "code",
   "execution_count": 1,
   "metadata": {},
   "outputs": [],
   "source": [
    "url = 'https://www.sciencedirect.com/science/article/pii/S0043135418309837/pdfft?md5=e0f5fee62b96dec1afd80b12a2f95414&pid=1-s2.0-S0043135418309837-main.pdf'"
   ]
  },
  {
   "cell_type": "code",
   "execution_count": 2,
   "metadata": {},
   "outputs": [],
   "source": [
    "import requests"
   ]
  },
  {
   "cell_type": "code",
   "execution_count": 3,
   "metadata": {},
   "outputs": [],
   "source": [
    "r = requests.get(url)"
   ]
  },
  {
   "cell_type": "code",
   "execution_count": 12,
   "metadata": {},
   "outputs": [],
   "source": [
    "with open('1.html', 'w', encoding='utf-8') as f:\n",
    "    f.write(r.text)"
   ]
  },
  {
   "cell_type": "code",
   "execution_count": null,
   "metadata": {},
   "outputs": [],
   "source": []
  }
 ],
 "metadata": {
  "kernelspec": {
   "display_name": "Python 3",
   "language": "python",
   "name": "python3"
  },
  "language_info": {
   "codemirror_mode": {
    "name": "ipython",
    "version": 3
   },
   "file_extension": ".py",
   "mimetype": "text/x-python",
   "name": "python",
   "nbconvert_exporter": "python",
   "pygments_lexer": "ipython3",
   "version": "3.6.6"
  }
 },
 "nbformat": 4,
 "nbformat_minor": 2
}
