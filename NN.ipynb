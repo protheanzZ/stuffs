{
 "cells": [
  {
   "cell_type": "code",
   "execution_count": 1,
   "metadata": {},
   "outputs": [],
   "source": [
    "import numpy as np\n",
    "from IPython.display import Image"
   ]
  },
  {
   "cell_type": "code",
   "execution_count": 7,
   "metadata": {},
   "outputs": [],
   "source": [
    "nn_architecture = [\n",
    "    {'input_dim': 2, 'output dim': 4, 'activation': 'relu'},\n",
    "    {'input_dim': 4, 'output dim': 6, 'activation': 'relu'},\n",
    "    {'input_dim': 6, 'output dim': 6, 'activation': 'relu'},\n",
    "    {'input_dim': 6, 'output dim': 4, 'activation': 'relu'},\n",
    "    {'input_dim': 4, 'output dim': 1, 'activation': 'sigmod'}\n",
    "]"
   ]
  },
  {
   "cell_type": "code",
   "execution_count": 12,
   "metadata": {},
   "outputs": [],
   "source": [
    "def init_layers(nn_architecture, seed=99):\n",
    "    np.random.seed(seed)\n",
    "    number_of_layers = len(nn_architecture)\n",
    "    params_values = {}\n",
    "    \n",
    "    for idx, layer in enumerate(nn_architecture):\n",
    "        layer_idx = idx + 1\n",
    "        layer_input_size = layer['input_dim']\n",
    "        layer_output_size = layer['output_dim']\n",
    "        \n",
    "        params_values.setdefault('W' + str(layer_idx), \n",
    "                                np.random.randn(layer_output_size, layer_input_size) * .1)\n",
    "        params_values.setdefault('b' + str(layer_idx), \n",
    "                                np.random.randn(layer_output_size, layer_input_size) * .1)\n",
    "        \n",
    "        \n",
    "    return params_values"
   ]
  },
  {
   "cell_type": "code",
   "execution_count": 8,
   "metadata": {},
   "outputs": [],
   "source": [
    "d = {'a': 123}"
   ]
  },
  {
   "cell_type": "code",
   "execution_count": 10,
   "metadata": {},
   "outputs": [
    {
     "data": {
      "text/plain": [
       "{'a': 123, 'd': 3}"
      ]
     },
     "execution_count": 10,
     "metadata": {},
     "output_type": "execute_result"
    }
   ],
   "source": [
    "d.setdefault('d', 3)\n",
    "d"
   ]
  },
  {
   "cell_type": "code",
   "execution_count": 1,
   "metadata": {},
   "outputs": [],
   "source": [
    "import matplotlib.pyplot as plt\n",
    "import pandas as pd\n",
    "import numpy as np"
   ]
  },
  {
   "cell_type": "code",
   "execution_count": 15,
   "metadata": {},
   "outputs": [
    {
     "data": {
      "text/plain": [
       "<matplotlib.collections.PathCollection at 0x19ce838bdd8>"
      ]
     },
     "execution_count": 15,
     "metadata": {},
     "output_type": "execute_result"
    },
    {
     "data": {
      "image/png": "[encoded data removed]",
      "text/plain": [
       "<Figure size 432x432 with 1 Axes>"
      ]
     },
     "metadata": {},
     "output_type": "display_data"
    }
   ],
   "source": [
    "plt.figure(figsize=(6,6))\n",
    "x = np.linspace(-1,1,1000)\n",
    "y_p = (1 - x**2)**.5\n",
    "y_n = -y_p\n",
    "plt.scatter(x+np.random.randn(1000)/10, y_p+np.random.randn(1000)/10, c='k')\n",
    "plt.scatter(x+np.random.randn(1000)/10, y_n+np.random.randn(1000)/10, c='k')"
   ]
  }
 ],
 "metadata": {
  "kernelspec": {
   "display_name": "Python 3",
   "language": "python",
   "name": "python3"
  },
  "language_info": {
   "codemirror_mode": {
    "name": "ipython",
    "version": 3
   },
   "file_extension": ".py",
   "mimetype": "text/x-python",
   "name": "python",
   "nbconvert_exporter": "python",
   "pygments_lexer": "ipython3",
   "version": "3.6.6"
  }
 },
 "nbformat": 4,
 "nbformat_minor": 2
}
